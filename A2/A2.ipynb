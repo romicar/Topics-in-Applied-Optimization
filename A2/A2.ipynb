{
 "cells": [
  {
   "cell_type": "markdown",
   "metadata": {},
   "source": [
    "# Assignment - 2\n",
    "\n",
    "## MA8.401 Topics in Applied Optimization\n",
    "----\n",
    "\n",
    "\n",
    "- Sriteja Reddy Pashya (2021111019)\n",
    "\n",
    "- Romica Raisinghani (2021101053)"
   ]
  },
  {
   "cell_type": "markdown",
   "metadata": {},
   "source": [
    "# Linear and Quadratic Programming Using CVXOPT"
   ]
  },
  {
   "cell_type": "markdown",
   "metadata": {},
   "source": [
    "The standard form for primal and dual linear programs (slightly different from what was done in class) in cvxopt library is given as follows\n",
    "$$\n",
    "\\begin{align*}\n",
    "\\text{minimize} \\quad &c^T x \\\\\n",
    "\\text{subject} \\quad &Gx \\leq h \\\\\n",
    "&Ax = b\\\\\n",
    "\\end{align*}\n",
    "$$"
   ]
  },
  {
   "cell_type": "markdown",
   "metadata": {},
   "source": [
    "We would like to solve the following linear programming problem.\n",
    "$$\n",
    "\\begin{align*}\n",
    "\\text{minimize} \\quad &-4x_1 - 5 x_2 \\\\\n",
    "\\text{subject to} \\quad &2x_1 + x_2 \\leq 3 \\\\\n",
    "&x_1 + 2x_2 \\leq 3 \\\\\n",
    "&x_1 \\geq 0, \\: x_2 \\geq 0.\n",
    "\\end{align*}\n",
    "$$\n",
    "We can write all inequalities as $\\leq$ as follows\n",
    "$$\n",
    "\\begin{align*}\n",
    "\\text{minimize} \\quad &-4x_1 - 5 x_2 \\\\\n",
    "\\text{subject to} \\quad &2x_1 + x_2 \\leq 3 \\\\\n",
    "&x_1 + 2x_2 \\leq 3 \\\\\n",
    "-&x_1 + 0 x_2 \\leq 0 \\\\\n",
    "&0 x_1 - x_2 \\leq 0.\n",
    "\\end{align*}\n",
    "$$\n",
    "\n",
    "To solve this using cvxopt library, we have\n",
    "$$\n",
    "G = \\begin{bmatrix}\n",
    "2 & 1 \\\\\n",
    "1 & 2 \\\\\n",
    "-1 & 0 \\\\\n",
    "0 & -1\n",
    "\\end{bmatrix}, \\quad c^T = [-4, -5], \\quad h = \\begin{bmatrix}\n",
    "3 \\\\\n",
    "3 \\\\\n",
    "0 \\\\\n",
    "0\n",
    "\\end{bmatrix}\n",
    "$$"
   ]
  },
  {
   "cell_type": "code",
   "execution_count": 54,
   "metadata": {},
   "outputs": [
    {
     "name": "stdout",
     "output_type": "stream",
     "text": [
      "Defaulting to user installation because normal site-packages is not writeable\n",
      "Requirement already satisfied: cvxopt in /home/romica/.local/lib/python3.10/site-packages (1.3.2)\n",
      "     pcost       dcost       gap    pres   dres   k/t\n",
      " 0: -8.1000e+00 -1.8300e+01  4e+00  0e+00  8e-01  1e+00\n",
      " 1: -8.8055e+00 -9.4357e+00  2e-01  2e-16  4e-02  3e-02\n",
      " 2: -8.9981e+00 -9.0049e+00  2e-03  3e-16  5e-04  4e-04\n",
      " 3: -9.0000e+00 -9.0000e+00  2e-05  9e-17  5e-06  4e-06\n",
      " 4: -9.0000e+00 -9.0000e+00  2e-07  9e-17  5e-08  4e-08\n",
      "Optimal solution found.\n",
      "[ 1.00e+00]\n",
      "[ 1.00e+00]\n",
      "\n"
     ]
    }
   ],
   "source": [
    "!pip install cvxopt\n",
    "from cvxopt import matrix, solvers\n",
    "c = matrix([-4., -5.])\n",
    "G = matrix([[2., 1., -1., 0.], [1., 2., 0., -1.]])\n",
    "h = matrix([3., 3., 0., 0.])\n",
    "sol = solvers.lp(c, G, h)\n",
    "print(sol['x'])"
   ]
  },
  {
   "cell_type": "markdown",
   "metadata": {},
   "source": [
    "## Model a Linear Program and Solve it using CVXOPT\n",
    "Consider the problem of modeling a problem as linear programming problem.\n",
    "A car company BNW has 4 manufacturing branches all over India. Number of labour units, materials, and pollution units are given as follows:\n",
    "\n",
    "$$\n",
    "\\begin{array}{r|r}\n",
    "& Labourers & Resources & Pollution \\\\ \\hline\n",
    "Factory 1 & 30 & 30 & 10 \\\\\n",
    "Factory 2 & 30 & 60 & 5 \\\\\n",
    "Factory 3 & 40 & 70 & 3 \\\\\n",
    "Factory 4 & 20 & 30 & 11\n",
    "\\end{array}\n",
    "$$\n",
    "\n",
    "Let $x_1, x_2, x_3, x_4$ be the number of cars produced at these factories. The objective is to maximize the number of cars produced, given the following constraints:\n",
    "\n",
    "<ol>\n",
    "<li> Factory 3 must produce at least 4 cars\n",
    "    <li> All other factories must produce at least 1 car\n",
    "<li> The total labour hours available is 4000, and \n",
    "<li> The number of material resources available is 16000\n",
    "<li> Total units of pollution must not be more than 12000 \n",
    "</ol>"
   ]
  },
  {
   "cell_type": "markdown",
   "metadata": {},
   "source": [
    "$\\color{red}{Question:}$ Model the above problem as linear program."
   ]
  },
  {
   "cell_type": "markdown",
   "metadata": {},
   "source": [
    "$\\color{blue}{Answer:}$\n",
    "\n",
    "Here, \n",
    "\n",
    "- $x_1$ -> Number of cars produced in Factory 1\n",
    "- $x_2$ -> Number of cars produced in Factory 2\n",
    "- $x_3$ -> Number of cars produced in Factory 3\n",
    "- $x_4$ -> Number of cars produced in Factory 4\n",
    "\n",
    "**Objective Function/Cost Function:** \n",
    "\n",
    "<div align=\"center\">\n",
    "\n",
    "**Maximize** $x_1 + x_2 + x_3 + x_4$  \n",
    "\n",
    "which is equivalent to \n",
    "\n",
    "**Minimize** $-x_1 - x_2 - x_3 - x_4$\n",
    "\n",
    "</div>\n",
    "\n",
    "**Constraint 1**: Factory 3 must produce atleast 4 cars:  \n",
    "<div align=\"center\">\n",
    "\n",
    "$x_3 \\geq 4$\n",
    "\n",
    "which is equivalent to \n",
    "\n",
    "$-x_3 \\leq -4$\n",
    "\n",
    "</div>\n",
    "\n",
    "**Constraint 2**: All other factories must produce atleast 1 car:  \n",
    "<div align=\"center\">\n",
    "\n",
    "$x_1 \\geq 1$ which is equivalent to  $-x_1 \\leq -1$  \n",
    "\n",
    "$x_2 \\geq 1$ which is equivalent to  $-x_2 \\leq -1$  \n",
    "\n",
    "$x_3 \\geq 1$ which is equivalent to  $-x_3 \\leq -1$  \n",
    "\n",
    "$x_4 \\geq 1$ which is equivalent to  $-x_4 \\leq -1$  \n",
    "\n",
    "</div>\n",
    "\n",
    "**Constraint 3**: The total labour hours available is 4000 :  \n",
    "<div align=\"center\">\n",
    "\n",
    "$30x_1 + 30x_2 + 40x_3 + 20x_4 \\leq 4000$ \n",
    "\n",
    "which is equivalent to \n",
    "\n",
    "$3x_1 + 3x_2 + 4x_3 + 2x_4 \\leq 400$ \n",
    "\n",
    "</div>\n",
    "\n",
    "**Constraint 4**: The total number of material resources available is 16000 :  \n",
    "<div align=\"center\">\n",
    "\n",
    "$30x_1 + 60x_2 + 70x_3 + 30x_4 \\leq 16000$ \n",
    "\n",
    "which is equivalent to \n",
    "\n",
    "$3x_1 + 6x_2 + 7x_3 + 3x_4 \\leq 1600$ \n",
    "\n",
    "</div>\n",
    "\n",
    "**Constraint 5**: Total units of pollution must not be more than 12000 :  \n",
    "<div align=\"center\">\n",
    "\n",
    "$10x_1 + 5x_2 + 3x_3 + 11x_4 \\leq 12000$ \n",
    "\n",
    "</div>\n",
    "\n",
    "Thus, our linear optimization problem reduces to:\n",
    "\n",
    "<div align=\"center\">\n",
    "\n",
    "**Minimize** $-x_1 - x_2 - x_3 - x_4$\n",
    "\n",
    "**subject to:** $-x_3 \\leq -4$ (*Constraint 1*)\n",
    "\n",
    "$-x_1 \\leq -1$ (*Constraint 2*)\n",
    "\n",
    "$-x_2 \\leq -1$ (*Constraint 2*)\n",
    "\n",
    "$-x_3 \\leq -1$ (*Constraint 2*)\n",
    "\n",
    "$-x_4 \\leq -1$ (*Constraint 2*)\n",
    "\n",
    "$3x_1 + 3x_2 + 4x_3 + 2x_4 \\leq 400$ (*Constraint 3*)\n",
    "\n",
    "$3x_1 + 6x_2 + 7x_3 + 3x_4 \\leq 1600$ (*Constraint 4*)\n",
    "\n",
    "$10x_1 + 5x_2 + 3x_3 + 11x_4 \\leq 12000$ (*Constraint 5*)\n",
    "\n",
    "\n",
    "</div>\n",
    "\n",
    "\n",
    "\n",
    "\n",
    "\n",
    "\n",
    "\n"
   ]
  },
  {
   "cell_type": "markdown",
   "metadata": {},
   "source": [
    "$\\color{red}{Question:}$ Write the constraint matrices and vectors."
   ]
  },
  {
   "cell_type": "markdown",
   "metadata": {},
   "source": [
    "$\\color{blue}{Answer:}$\n",
    "\n",
    "With the help of above equations, the matrices are:\n",
    "\n",
    "$$\n",
    "\n",
    "G = \\begin{bmatrix}\n",
    "0 & 0 & -1 & 0   \\\\\n",
    "-1 & 0 & 0 & 0  \\\\\n",
    "0 & -1 & 0 & 0  \\\\\n",
    "0 & 0 & 0 & -1 \\\\\n",
    "10 & 5 & 3 & 11 \\\\\n",
    "3 & 3 & 4 & 2 \\\\\n",
    "3 & 6 & 7 & 3 \\\\\n",
    "\\end{bmatrix} \\\\\n",
    "\n",
    "\\\\\n",
    "\n",
    "\n",
    "\\quad c^T = [-1, -1,-1,-1]\\\\ \\\\\n",
    "\n",
    "\\quad h = \\begin{bmatrix}\n",
    "-4 \\\\\n",
    "-1 \\\\\n",
    "-1 \\\\\n",
    "-1 \\\\\n",
    "12000\\\\\n",
    "400 \\\\\n",
    "1600\\\\\n",
    "\\end{bmatrix}\n",
    "\n",
    "$$\n"
   ]
  },
  {
   "cell_type": "markdown",
   "metadata": {},
   "source": [
    "$\\color{red}{Question:}$ Write python code, and show solution."
   ]
  },
  {
   "cell_type": "markdown",
   "metadata": {},
   "source": [
    "$\\color{blue}{Answer:}$"
   ]
  },
  {
   "cell_type": "code",
   "execution_count": 55,
   "metadata": {},
   "outputs": [
    {
     "name": "stdout",
     "output_type": "stream",
     "text": [
      "     pcost       dcost       gap    pres   dres   k/t\n",
      " 0: -8.6124e+02 -1.5131e+04  6e+03  2e-01  1e+01  1e+00\n",
      " 1: -6.2547e+02 -8.7561e+03  8e+03  9e-02  8e+00  9e+01\n",
      " 2: -2.8751e+02 -4.0002e+03  1e+04  4e-02  4e+00  2e+02\n",
      " 3: -1.6399e+02 -9.7180e+02  1e+03  1e-02  1e+00  2e+02\n",
      " 4: -1.5502e+02 -2.2837e+02  7e+01  8e-04  7e-02  1e+00\n",
      " 5: -1.9444e+02 -2.0346e+02  8e+00  1e-04  1e-02  7e-01\n",
      " 6: -1.9499e+02 -1.9509e+02  9e-02  1e-06  1e-04  8e-03\n",
      " 7: -1.9500e+02 -1.9500e+02  9e-04  1e-08  1e-06  8e-05\n",
      " 8: -1.9500e+02 -1.9500e+02  9e-06  1e-10  1e-08  8e-07\n",
      "Optimal solution found.\n",
      "[ 1.00e+00]\n",
      "[ 1.00e+00]\n",
      "[ 4.00e+00]\n",
      "[ 1.89e+02]\n",
      "\n"
     ]
    }
   ],
   "source": [
    "from cvxopt import matrix, solvers\n",
    "\n",
    "c = matrix([-1., -1., -1, -1])  # Objective function coefficients\n",
    "\n",
    "G = matrix([[0., -1., 0., 0., 10., 3., 3.],  # Inequality constraints matrix (Gx <= h)\n",
    "            [0., 0., -1., 0., 5., 3., 6.],\n",
    "            [-1., 0., 0., 0., 3., 4., 7.],\n",
    "            [0., 0., 0., -1., 11., 2., 3.]])\n",
    "\n",
    "h = matrix([-4., -1., -1., -1., 12000., 400., 1600.])  # Inequality constraints vector\n",
    "\n",
    "sol = solvers.lp(c, G, h)\n",
    "\n",
    "print(sol['x'])"
   ]
  },
  {
   "cell_type": "markdown",
   "metadata": {},
   "source": [
    "Your solution should be: \n",
    "\n",
    "[ 1.00e+00]\n",
    "[ 1.00e+00]\n",
    "[ 4.00e+00]\n",
    "[ 1.89e+02]"
   ]
  },
  {
   "cell_type": "markdown",
   "metadata": {},
   "source": [
    "# Quadratic Program\n",
    "We can write a quadratic program as follows:\n",
    "$$\n",
    "\\begin{align*}\n",
    "\\text{minimize} \\quad &(1/2)x^T P x + q^T x \\\\\n",
    "\\text{subject to} \\quad &Gx \\leq h \\\\\n",
    "&Ax = b\n",
    "\\end{align*}\n",
    "$$"
   ]
  },
  {
   "cell_type": "markdown",
   "metadata": {},
   "source": [
    "Consider the following quadratic program. \n",
    "$$\n",
    "\\begin{align*}\n",
    "\\text{minimize} \\quad &2x_1^2 + x_2^2 + x_1x_2 + x_1 + x_2 \\\\\n",
    "\\text{subject to} \\quad &x_1 \\geq 0 \\\\\n",
    "&x_2 \\geq 0 \\\\\n",
    "&x_1 + 2x_2 = 1\n",
    "\\end{align*}\n",
    "$$"
   ]
  },
  {
   "cell_type": "markdown",
   "metadata": {},
   "source": [
    "$\\color{red}{Question:}$ Identify $P, q, G, A, h, b$\n",
    "\n"
   ]
  },
  {
   "cell_type": "markdown",
   "metadata": {},
   "source": [
    "$\\color{red}{Answer:}$ \n",
    "\n",
    "The given matrices can be easily calculated by comparing the given equation and constraints with the genral form of quadratic programming problem:\n",
    "\n",
    "\n",
    "$$\n",
    "P = \\begin{bmatrix}\n",
    "4 & 1 \\\\\n",
    "1 & 2 \\\\\n",
    "\\end{bmatrix}\n",
    "\\quad q = \\begin{bmatrix}\n",
    "1 \\\\\n",
    "1\n",
    "\\end{bmatrix} \n",
    "\\quad G = \\begin{bmatrix}\n",
    "-1 & 0 \\\\\n",
    "0 & -1 \n",
    "\\end{bmatrix}\n",
    "\\quad A = [1,2]\n",
    "\\quad h = \\begin{bmatrix}\n",
    "0 \\\\\n",
    "0\n",
    "\\end{bmatrix} \n",
    "\\quad b= 1\n",
    "$$\n",
    "\n"
   ]
  },
  {
   "cell_type": "markdown",
   "metadata": {},
   "source": [
    "$\\color{red}{Question:}$ Complete the python code below by filling the matrices found above."
   ]
  },
  {
   "cell_type": "code",
   "execution_count": 56,
   "metadata": {},
   "outputs": [
    {
     "name": "stdout",
     "output_type": "stream",
     "text": [
      "     pcost       dcost       gap    pres   dres\n",
      " 0:  7.2853e-01  2.8532e-01  3e+00  1e+00  2e+00\n",
      " 1:  8.3896e-01  4.5876e-01  4e-01  1e-17  4e-16\n",
      " 2:  7.6893e-01  7.4535e-01  2e-02  1e-16  8e-17\n",
      " 3:  7.5086e-01  7.4997e-01  9e-04  6e-17  2e-16\n",
      " 4:  7.5001e-01  7.5000e-01  9e-06  2e-16  3e-16\n",
      " 5:  7.5000e-01  7.5000e-01  9e-08  4e-21  1e-16\n",
      "Optimal solution found.\n",
      "[ 1.74e-07]\n",
      "[ 5.00e-01]\n",
      "\n"
     ]
    }
   ],
   "source": [
    "from cvxopt import matrix, solvers\n",
    "\n",
    "# Objective function matrices\n",
    "P = matrix([[4., 1.], [1., 2.]])\n",
    "q = matrix([1., 1.])\n",
    "\n",
    "# Inequality constraints (Gx <= h)\n",
    "G = matrix([[-1., 0.], [0., -1.]])\n",
    "h = matrix([0., 0.])\n",
    "\n",
    "# Equality constraints (Ax = b)\n",
    "A = matrix([1., 2.], (1, 2))\n",
    "b = matrix(1.)\n",
    "\n",
    "solution = solvers.qp(P, q, G, h, A, b)\n",
    "\n",
    "print(solution['x'])\n"
   ]
  },
  {
   "cell_type": "markdown",
   "metadata": {},
   "source": [
    "The solution should be:\n",
    "\n",
    "[ 0]\n",
    "\n",
    "[ 0.5]"
   ]
  }
 ],
 "metadata": {
  "kernelspec": {
   "display_name": "Python 3 (ipykernel)",
   "language": "python",
   "name": "python3"
  },
  "language_info": {
   "codemirror_mode": {
    "name": "ipython",
    "version": 3
   },
   "file_extension": ".py",
   "mimetype": "text/x-python",
   "name": "python",
   "nbconvert_exporter": "python",
   "pygments_lexer": "ipython3",
   "version": "3.10.12"
  }
 },
 "nbformat": 4,
 "nbformat_minor": 4
}
