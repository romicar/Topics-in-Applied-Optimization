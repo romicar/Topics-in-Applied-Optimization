{
 "cells": [
  {
   "cell_type": "markdown",
   "metadata": {},
   "source": [
    "**ASSIGNMENT-4**\n",
    "- Sriteja Reddy Pashya (2021111019)\n",
    "- Romica Raisinghani (2021101053)"
   ]
  },
  {
   "cell_type": "markdown",
   "metadata": {},
   "source": [
    "\n",
    "Consider a modified version of the four-city traveling salesman problem where there is a fifth city E. The intercity travel costs are shown in figure below:"
   ]
  },
  {
   "cell_type": "markdown",
   "metadata": {},
   "source": [
    "<img src=\"img.png\" width=\"400\">\n"
   ]
  },
  {
   "cell_type": "markdown",
   "metadata": {},
   "source": [
    "$\\color{red}{Question   1:}$ Use exact DP with starting city A to verify that the optimal tour is ABDECA with cost\n",
    "20."
   ]
  },
  {
   "cell_type": "markdown",
   "metadata": {},
   "source": [
    "$\\color{blue}{Answer 1}:$ \n",
    "To verify that the optimal tour is ABDECA with cost 20 using exact dynamic programming (DP) with starting city A, we can use the following steps:\n",
    "\n",
    "1. **Define the state space.** The state of the DP algorithm will be a tuple $(city, visitedSet)$, where $city$ is the current city and $visited_set$ is a set of cities that have already been visited. The initial state is `(A, {})`.\n",
    "\n",
    "2. **Define the transition function.** The transition function takes a state $(city, visitedSet)$ and returns a list of next states $(nextCity, visitedSetPrime)$, where $nextCity$ is a city that can be reached from $city$ and $visitedSetPrime$ is the updated set of visited cities. The cost of the transition is the travel time from $city$ to $nextCity$.\n",
    "\n",
    "3. **Define the base cases.** The base cases are when the visited set contains all cities except the start city. In this case, the only next state is to return to the start city. The cost of this transition is the travel time from the current city to the start city.\n",
    "\n",
    "4. **Recursively solve the DP problem.** To solve the DP problem recursively, we can use the following equation:\n",
    "\n",
    "$$\n",
    "dp(city, visitedSet) = min(dp(nextCity, visitedSetPrime) + cost(city, nextCity))\n",
    "$$\n",
    "\n",
    "where $(nextCity, visitedSetPrime)$ is a next state of $(city, visitedSet)$\n",
    "and $cost(city, nextCity)$ is the travel time from $city$ to $nextCity$\n",
    "\n",
    "5. **Return the optimal solution.** The optimal solution is the minimum cost of a tour that starts at city A and visits all cities exactly once. This can be found by taking the minimum over all states where the visited set contains all cities except the start city.\n",
    "\n"
   ]
  },
  {
   "cell_type": "code",
   "execution_count": 38,
   "metadata": {},
   "outputs": [
    {
     "name": "stdout",
     "output_type": "stream",
     "text": [
      "The optimal tour is ABDECA with cost 20\n"
     ]
    }
   ],
   "source": [
    "import numpy as np\n",
    "\n",
    "cost_matrix = np.array([[0, 5, 1, 20, 10],\n",
    "                        [20, 0, 1, 4, 10],\n",
    "                        [1, 20, 0, 3, 10],\n",
    "                        [18, 4, 3, 0, 10],\n",
    "                        [30, 10, 0, 10, 0]])\n",
    "\n",
    "def dp(city, visited_set, cost_matrix):\n",
    "\n",
    "  if visited_set == {city} | set(range(len(cost_matrix))):\n",
    "    return cost_matrix[city][0], [city, 0]\n",
    "\n",
    "  min_cost = float('inf')\n",
    "  best_tour = []\n",
    "\n",
    "  for next_city in range(len(cost_matrix)):\n",
    "    if next_city not in visited_set:\n",
    "      new_visited_set = visited_set | {next_city}\n",
    "      cost, tour = dp(next_city, new_visited_set, cost_matrix)\n",
    "      cost += cost_matrix[city][next_city]\n",
    "      if cost < min_cost:\n",
    "        min_cost = cost\n",
    "        best_tour = [city] + tour\n",
    "\n",
    "  return min_cost, best_tour\n",
    "\n",
    "# Solve the DP problem starting at city A.\n",
    "min_cost, optimal_tour = dp(0, set(), cost_matrix)\n",
    "\n",
    "if optimal_tour[0] == 0:\n",
    "    optimal_tour = optimal_tour[1:]\n",
    "\n",
    "# Join the remaining tour to form the string\n",
    "optimal_tour_str = ''.join([chr(ord('A') + city) for city in optimal_tour])\n",
    "\n",
    "# Print the optimal tour and cost.\n",
    "print(f'The optimal tour is {optimal_tour_str} with cost {min_cost}')\n"
   ]
  },
  {
   "cell_type": "markdown",
   "metadata": {},
   "source": [
    "$\\color{red}{Question   2:}$ Verify that the nearest neighbor heuristic starting with city A generates the tour ACDBEA\n",
    "with cost 48."
   ]
  },
  {
   "cell_type": "markdown",
   "metadata": {},
   "source": [
    "$\\color{blue}{Answer 2}:$ \n",
    "To verify that the nearest neighbor heuristic starting with city A generates the tour ACDBEA with cost 48, we can follow these steps:\n",
    "\n",
    "1. Start at city A.\n",
    "\n",
    "2. Find the nearest unvisited city, which is C (cost 1).\n",
    "\n",
    "3. Add city C to the tour and mark it as visited.\n",
    "\n",
    "4. Repeat steps 2 and 3 until all cities have been visited and the tour returns to city A."
   ]
  },
  {
   "cell_type": "code",
   "execution_count": 39,
   "metadata": {},
   "outputs": [
    {
     "name": "stdout",
     "output_type": "stream",
     "text": [
      "The nearest neighbor tour starting at A is ACDBEA with cost 48\n"
     ]
    }
   ],
   "source": [
    "import numpy as np\n",
    "\n",
    "cost_matrix = np.array([[0, 5, 1, 20, 10],\n",
    "                        [20, 0, 1, 4, 10],\n",
    "                        [1, 20, 0, 3, 10],\n",
    "                        [18, 4, 3, 0, 10],\n",
    "                        [30, 10, 0, 10, 0]])\n",
    "\n",
    "def nearest_neighbor(cost_matrix, start_city):\n",
    "    num_cities = len(cost_matrix)\n",
    "    tour = [start_city]\n",
    "    visited_set = set([start_city])\n",
    "    total_cost = 0\n",
    "\n",
    "    for _ in range(num_cities - 1):\n",
    "        current_city = tour[-1]\n",
    "        min_distance = float('inf')\n",
    "        nearest_city = None\n",
    "\n",
    "        for next_city in range(num_cities):\n",
    "            if next_city not in visited_set:\n",
    "                distance = cost_matrix[current_city][next_city]\n",
    "                if distance < min_distance:\n",
    "                    min_distance = distance\n",
    "                    nearest_city = next_city\n",
    "\n",
    "        tour.append(nearest_city)\n",
    "        visited_set.add(nearest_city)\n",
    "        total_cost += min_distance\n",
    "\n",
    "    # Return to the starting city to complete the tour\n",
    "    tour.append(start_city)\n",
    "    total_cost += cost_matrix[tour[-2]][start_city]\n",
    "\n",
    "    return tour, total_cost\n",
    "\n",
    "# Start the nearest neighbor algorithm at city A (index 0)\n",
    "start_city_index = 0\n",
    "optimal_tour, tour_cost = nearest_neighbor(cost_matrix, start_city_index)\n",
    "\n",
    "# Convert city indices to city names\n",
    "city_names = \"ABCDE\"\n",
    "optimal_tour = ''.join([city_names[city_index] for city_index in optimal_tour])\n",
    "\n",
    "# Print the optimal tour and cost\n",
    "print(f'The nearest neighbor tour starting at A is {optimal_tour} with cost {tour_cost}')\n"
   ]
  }
 ],
 "metadata": {
  "kernelspec": {
   "display_name": "Python 3",
   "language": "python",
   "name": "python3"
  },
  "language_info": {
   "codemirror_mode": {
    "name": "ipython",
    "version": 3
   },
   "file_extension": ".py",
   "mimetype": "text/x-python",
   "name": "python",
   "nbconvert_exporter": "python",
   "pygments_lexer": "ipython3",
   "version": "3.10.12"
  },
  "orig_nbformat": 4
 },
 "nbformat": 4,
 "nbformat_minor": 2
}
